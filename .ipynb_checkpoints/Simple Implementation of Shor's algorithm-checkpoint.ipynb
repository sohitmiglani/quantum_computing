{
 "cells": [
  {
   "cell_type": "code",
   "execution_count": 19,
   "metadata": {},
   "outputs": [],
   "source": [
    "import ecdsa, math\n",
    "multiplicative_group = [2, 4, 5, 8, 10, 11, 13, 16, 17, 19, 20]"
   ]
  },
  {
   "cell_type": "code",
   "execution_count": 9,
   "metadata": {},
   "outputs": [],
   "source": [
    "set_of_factors = dict()\n",
    "fraction = 0\n",
    "\n",
    "for number in multiplicative_group:\n",
    "    order = ecdsa.numbertheory.order_mod(number,21)\n",
    "    \n",
    "    if order%2 == 0:\n",
    "        number1 = number**(order/2) - 1\n",
    "        number2 = number**(order/2) + 1\n",
    "        \n",
    "        set_of_factors[number] = (number1,number2)\n",
    "        \n",
    "        if number1%21 != 0 and number2%21 != 0:\n",
    "            fraction += 1"
   ]
  },
  {
   "cell_type": "code",
   "execution_count": 14,
   "metadata": {},
   "outputs": [
    {
     "name": "stdout",
     "output_type": "stream",
     "text": [
      "6\n",
      "9\n"
     ]
    }
   ],
   "source": [
    "print(fraction)\n",
    "print(len(set_of_factors))"
   ]
  },
  {
   "cell_type": "code",
   "execution_count": 22,
   "metadata": {},
   "outputs": [
    {
     "name": "stdout",
     "output_type": "stream",
     "text": [
      "7 3\n",
      "1 21\n",
      "7 3\n",
      "3 7\n",
      "7 3\n",
      "3 7\n",
      "1 21\n",
      "3 7\n",
      "1 21\n"
     ]
    }
   ],
   "source": [
    "for x in set_of_factors.keys():\n",
    "    number1 = int(set_of_factors[x][0])\n",
    "    number2 = int(set_of_factors[x][1])\n",
    "    \n",
    "    factor1 = math.gcd(number1, 21)\n",
    "    factor2 = math.gcd(number2, 21)\n",
    "    \n",
    "    print(factor1, factor2)"
   ]
  }
 ],
 "metadata": {
  "kernelspec": {
   "display_name": "Python 3",
   "language": "python",
   "name": "python3"
  },
  "language_info": {
   "codemirror_mode": {
    "name": "ipython",
    "version": 3
   },
   "file_extension": ".py",
   "mimetype": "text/x-python",
   "name": "python",
   "nbconvert_exporter": "python",
   "pygments_lexer": "ipython3",
   "version": "3.7.4"
  }
 },
 "nbformat": 4,
 "nbformat_minor": 2
}
