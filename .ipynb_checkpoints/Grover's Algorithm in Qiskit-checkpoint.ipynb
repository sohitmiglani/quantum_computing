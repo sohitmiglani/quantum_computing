{
 "cells": [
  {
   "cell_type": "markdown",
   "metadata": {},
   "source": [
    "# Grover's Algorithm in Qiskit"
   ]
  },
  {
   "cell_type": "markdown",
   "metadata": {},
   "source": [
    "#### Importing relevant libraries"
   ]
  },
  {
   "cell_type": "code",
   "execution_count": 45,
   "metadata": {},
   "outputs": [],
   "source": [
    "from qiskit import QuantumCircuit, IBMQ\n",
    "import math\n",
    "IBMQ.save_account('db5d0f4a625b09098be4ec64c49b390d79a742ce889a1e32cb41edb1e622dd10749f797e13fe357a928cbaabf9293d370fb2391777a9cc610659b246e7c3933a', overwrite=True)\n",
    "\n",
    "from qiskit import Aer\n",
    "# Run the quantum circuit on a statevector simulator backend\n",
    "\n",
    "import numpy as np\n",
    "from qiskit import *\n",
    "%matplotlib inline\n",
    "pi = math.pi"
   ]
  },
  {
   "cell_type": "markdown",
   "metadata": {},
   "source": [
    "#### Functions built in Qiskit that separate different parts of the Grover's Algorithm"
   ]
  },
  {
   "cell_type": "code",
   "execution_count": 50,
   "metadata": {},
   "outputs": [],
   "source": [
    "def prepare_states(circ):\n",
    "    '''\n",
    "        Function for preparing the states in the circuit\n",
    "    '''\n",
    "    circ.h(0)\n",
    "    circ.h(1)\n",
    "    circ.h(2)\n",
    "    circ.h(3)\n",
    "    \n",
    "    return circ"
   ]
  },
  {
   "cell_type": "code",
   "execution_count": 49,
   "metadata": {},
   "outputs": [],
   "source": [
    "def cccz(circ):\n",
    "    '''\n",
    "        This function is a replacement for the CCC-Z gate\n",
    "    '''\n",
    "    circ.cu1(pi/4, 0, 3)\n",
    "    circ.cx(0, 1)\n",
    "    circ.cu1(-pi/4, 1, 3)\n",
    "    circ.cx(0, 1)\n",
    "    circ.cu1(pi/4, 1, 3)\n",
    "    circ.cx(1, 2)\n",
    "    circ.cu1(-pi/4, 2, 3)\n",
    "    circ.cx(0, 2)\n",
    "    circ.cu1(pi/4, 2, 3)\n",
    "    circ.cx(1, 2)\n",
    "    circ.cu1(-pi/4, 2, 3)\n",
    "    circ.cx(0, 2)\n",
    "    circ.cu1(pi/4, 2, 3)\n",
    "    \n",
    "    return circ"
   ]
  },
  {
   "cell_type": "code",
   "execution_count": 51,
   "metadata": {},
   "outputs": [],
   "source": [
    "def oracle(circ, target_state):\n",
    "    '''\n",
    "        This function applies the complete oracle for any given\n",
    "        target state.\n",
    "\n",
    "        Based on the given target state, we find the gates where we\n",
    "        need to apply a NOT gate. \n",
    "\n",
    "        For every qubit that is in the 0 state, we need to apply a\n",
    "        NOT gate on this qubit before and after the CCCZ gate.\n",
    "       \n",
    "    '''\n",
    "    qubits_with_not_gate = []\n",
    "    \n",
    "    for i in range(4):\n",
    "        if int(target_state[i]) == 0:\n",
    "            qubits_with_not_gate.append(i)\n",
    "            \n",
    "    for qubit in qubits_with_not_gate:\n",
    "        circ.x(qubit)\n",
    "        \n",
    "    circ = cccz(circ)\n",
    "    \n",
    "    for qubit in qubits_with_not_gate:\n",
    "        circ.x(qubit)\n",
    "    \n",
    "    return circ\n",
    "    \n",
    "def Grover(circ):\n",
    "    '''\n",
    "        This function implements the Grover Operator\n",
    "    '''\n",
    "    \n",
    "    circ.h(0)\n",
    "    circ.h(1)\n",
    "    circ.h(2)\n",
    "    circ.h(3)\n",
    "\n",
    "    circ.x(0)\n",
    "    circ.x(1)\n",
    "    circ.x(2)\n",
    "    circ.x(3)\n",
    "    \n",
    "    circ = cccz(circ)\n",
    "    \n",
    "    circ.x(0)\n",
    "    circ.x(1)\n",
    "    circ.x(2)\n",
    "    circ.x(3)\n",
    "\n",
    "    circ.h(0)\n",
    "    circ.h(1)\n",
    "    circ.h(2)\n",
    "    circ.h(3)\n",
    "    \n",
    "    return circ"
   ]
  },
  {
   "cell_type": "code",
   "execution_count": 52,
   "metadata": {},
   "outputs": [],
   "source": [
    "def end_circuit(circ):\n",
    "    '''\n",
    "        This function end the circuit and measures the results\n",
    "    '''\n",
    "    circ.barrier()\n",
    "    circ.measure(range(4),range(4))\n",
    "    \n",
    "    return circ"
   ]
  },
  {
   "cell_type": "markdown",
   "metadata": {},
   "source": [
    "### Function to simulate the circuit and get results"
   ]
  },
  {
   "cell_type": "code",
   "execution_count": 59,
   "metadata": {},
   "outputs": [],
   "source": [
    "def simulate_and_get_results(number_of_iterations, target_state):\n",
    "    '''\n",
    "        This function simulates and quantum circuit for the specified target state\n",
    "        and given number of iterations.\n",
    "    '''\n",
    "    \n",
    "    circ = QuantumCircuit(4,4)\n",
    "    circ = prepare_states(circ)\n",
    "    \n",
    "    for i in range(number_of_iterations):\n",
    "        circ = oracle(circ,target_state)\n",
    "        circ = Grover(circ)\n",
    "    \n",
    "    circ = end_circuit(circ)\n",
    "    backend = Aer.get_backend('qasm_simulator')\n",
    "    job = execute(circ, backend, shots=8192)\n",
    "    result = job.result()\n",
    "    counts = result.get_counts(circ)\n",
    "    \n",
    "    return counts"
   ]
  },
  {
   "cell_type": "markdown",
   "metadata": {},
   "source": [
    "### Running the Circuit for 2 iterations and target state of '0010'"
   ]
  },
  {
   "cell_type": "code",
   "execution_count": 60,
   "metadata": {},
   "outputs": [
    {
     "data": {
      "image/png": "[encoded data removed]",
      "text/plain": [
       "<Figure size 864x432 with 1 Axes>"
      ]
     },
     "metadata": {},
     "output_type": "display_data"
    }
   ],
   "source": [
    "import matplotlib.pyplot as plt\n",
    "import seaborn as sns; sns.set()\n",
    "import numpy as np\n",
    "\n",
    "counts = simulate_and_get_results(2, '0010')\n",
    "total = sum(counts.values())\n",
    "probabilities = [i/total for i in counts.values()]\n",
    "x = np.linspace(0,1,21)\n",
    "x = [round(i,1) for i in x]\n",
    "\n",
    "plt.figure(figsize=(12,6))\n",
    "plt.bar(range(1,17), probabilities)\n",
    "plt.xticks(range(1,17),counts.keys())\n",
    "plt.yticks(x,x)\n",
    "plt.title('Probabilities of the states after three iteration of Grover Oracle and Operator', fontsize=15)\n",
    "plt.xlabel('States', fontsize=15)\n",
    "plt.ylabel('Probabilities', fontsize=15)\n",
    "plt.show()\n"
   ]
  },
  {
   "cell_type": "markdown",
   "metadata": {},
   "source": [
    "### Drawing the circuit for one iteration of the algorithm with target state as '0010'"
   ]
  },
  {
   "cell_type": "code",
   "execution_count": 61,
   "metadata": {},
   "outputs": [
    {
     "data": {
      "text/html": [
       "<pre style=\"word-wrap: normal;white-space: pre;background: #fff0;line-height: 1.1;font-family: &quot;Courier New&quot;,Courier,monospace\">        ┌───┐┌───┐                                                         »\n",
       "q_0: |0>┤ H ├┤ X ├─■───────■────────────■────────────────────────■─────────»\n",
       "        ├───┤├───┤ │     ┌─┴─┐        ┌─┴─┐                      │         »\n",
       "q_1: |0>┤ H ├┤ X ├─┼─────┤ X ├─■──────┤ X ├─■───────■────────────┼─────────»\n",
       "        ├───┤└───┘ │     └───┘ │      └───┘ │     ┌─┴─┐        ┌─┴─┐       »\n",
       "q_2: |0>┤ H ├──────┼───────────┼────────────┼─────┤ X ├─■──────┤ X ├─■─────»\n",
       "        ├───┤┌───┐ │pi/4       │-pi/4       │pi/4 └───┘ │-pi/4 └───┘ │pi/4 »\n",
       "q_3: |0>┤ H ├┤ X ├─■───────────■────────────■───────────■────────────■─────»\n",
       "        └───┘└───┘                                                         »\n",
       " c_0: 0 ═══════════════════════════════════════════════════════════════════»\n",
       "                                                                           »\n",
       " c_1: 0 ═══════════════════════════════════════════════════════════════════»\n",
       "                                                                           »\n",
       " c_2: 0 ═══════════════════════════════════════════════════════════════════»\n",
       "                                                                           »\n",
       " c_3: 0 ═══════════════════════════════════════════════════════════════════»\n",
       "                                                                           »\n",
       "«                                      ┌───┐     ┌───┐┌───┐                 »\n",
       "«q_0: ────────────────────■────────────┤ X ├─────┤ H ├┤ X ├──────■───────■──»\n",
       "«              ┌───┐      │  ┌───┐     ├───┤     └───┘└───┘      │     ┌─┴─┐»\n",
       "«q_1: ──■──────┤ X ├──────┼──┤ H ├─────┤ X ├─────────────────────┼─────┤ X ├»\n",
       "«     ┌─┴─┐    └───┘    ┌─┴─┐└───┘     └───┘     ┌───┐┌───┐      │     └───┘»\n",
       "«q_2: ┤ X ├─■───────────┤ X ├──────■─────────────┤ H ├┤ X ├──────┼──────────»\n",
       "«     └───┘ │-pi/-pi/4  └───┘      │pi/pi/pi/4   ├───┤├───┤┌───┐ │pi/4      »\n",
       "«q_3: ──────■──────────────────────■─────────────┤ X ├┤ H ├┤ X ├─■──────────»\n",
       "«                                                └───┘└───┘└───┘            »\n",
       "«c_0: ══════════════════════════════════════════════════════════════════════»\n",
       "«                                                                           »\n",
       "«c_1: ══════════════════════════════════════════════════════════════════════»\n",
       "«                                                                           »\n",
       "«c_2: ══════════════════════════════════════════════════════════════════════»\n",
       "«                                                                           »\n",
       "«c_3: ══════════════════════════════════════════════════════════════════════»\n",
       "«                                                                           »\n",
       "«                                                                              »\n",
       "«q_0: ──────────■────────────────────────■─────────────────────────────■───────»\n",
       "«             ┌─┴─┐                      │                  ┌───┐      │  ┌───┐»\n",
       "«q_1: ─■──────┤ X ├─■───────■────────────┼───────────■──────┤ X ├──────┼──┤ H ├»\n",
       "«      │      └───┘ │     ┌─┴─┐        ┌─┴─┐       ┌─┴─┐    └───┘    ┌─┴─┐└───┘»\n",
       "«q_2: ─┼────────────┼─────┤ X ├─■──────┤ X ├─■─────┤ X ├─■───────────┤ X ├─────»\n",
       "«      │-pi/4       │pi/4 └───┘ │-pi/4 └───┘ │pi/4 └───┘ │-pi/-pi/4  └───┘     »\n",
       "«q_3: ─■────────────■───────────■────────────■───────────■─────────────────────»\n",
       "«                                                                              »\n",
       "«c_0: ═════════════════════════════════════════════════════════════════════════»\n",
       "«                                                                              »\n",
       "«c_1: ═════════════════════════════════════════════════════════════════════════»\n",
       "«                                                                              »\n",
       "«c_2: ═════════════════════════════════════════════════════════════════════════»\n",
       "«                                                                              »\n",
       "«c_3: ═════════════════════════════════════════════════════════════════════════»\n",
       "«                                                                              »\n",
       "«        ┌───┐   ┌───┐      ░ ┌─┐         \n",
       "«q_0: ───┤ X ├───┤ H ├──────░─┤M├─────────\n",
       "«        └───┘   └───┘      ░ └╥┘┌─┐      \n",
       "«q_1: ──────────────────────░──╫─┤M├──────\n",
       "«                ┌───┐┌───┐ ░  ║ └╥┘┌─┐   \n",
       "«q_2: ─■─────────┤ X ├┤ H ├─░──╫──╫─┤M├───\n",
       "«      │pi/pi/4  ├───┤├───┤ ░  ║  ║ └╥┘┌─┐\n",
       "«q_3: ─■─────────┤ X ├┤ H ├─░──╫──╫──╫─┤M├\n",
       "«                └───┘└───┘ ░  ║  ║  ║ └╥┘\n",
       "«c_0: ═════════════════════════╩══╬══╬══╬═\n",
       "«                                 ║  ║  ║ \n",
       "«c_1: ════════════════════════════╩══╬══╬═\n",
       "«                                    ║  ║ \n",
       "«c_2: ═══════════════════════════════╩══╬═\n",
       "«                                       ║ \n",
       "«c_3: ══════════════════════════════════╩═\n",
       "«                                         </pre>"
      ],
      "text/plain": [
       "<qiskit.visualization.text.TextDrawing at 0x124e21890>"
      ]
     },
     "execution_count": 61,
     "metadata": {},
     "output_type": "execute_result"
    }
   ],
   "source": [
    "circ2 = QuantumCircuit(4,4)\n",
    "circ2 = prepare_states(circ2)\n",
    "circ2 = oracle(circ2, '0010')\n",
    "circ2 = Grover(circ2)\n",
    "circ2 = end_circuit(circ2)\n",
    "circ2.draw()"
   ]
  }
 ],
 "metadata": {
  "kernelspec": {
   "display_name": "Python 3",
   "language": "python",
   "name": "python3"
  },
  "language_info": {
   "codemirror_mode": {
    "name": "ipython",
    "version": 3
   },
   "file_extension": ".py",
   "mimetype": "text/x-python",
   "name": "python",
   "nbconvert_exporter": "python",
   "pygments_lexer": "ipython3",
   "version": "3.7.4"
  }
 },
 "nbformat": 4,
 "nbformat_minor": 2
}
