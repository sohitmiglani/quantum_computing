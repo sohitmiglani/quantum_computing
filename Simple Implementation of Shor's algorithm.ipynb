{
 "cells": [
  {
   "cell_type": "code",
   "execution_count": 4,
   "metadata": {},
   "outputs": [
    {
     "name": "stdout",
     "output_type": "stream",
     "text": [
      "Here are the co-prime integers and their multiplicative order:\n",
      "2 : 6\n",
      "4 : 3\n",
      "5 : 6\n",
      "8 : 2\n",
      "10 : 6\n",
      "11 : 6\n",
      "13 : 2\n",
      "16 : 3\n",
      "17 : 6\n",
      "19 : 6\n",
      "20 : 2\n"
     ]
    }
   ],
   "source": [
    "import ecdsa, math\n",
    "multiplicative_group = [2, 4, 5, 8, 10, 11, 13, 16, 17, 19, 20]\n",
    "\n",
    "set_of_factors = dict()\n",
    "fraction = 0\n",
    "\n",
    "print('Here are the co-prime integers and their multiplicative order:')\n",
    "for number in multiplicative_group:\n",
    "    order = ecdsa.numbertheory.order_mod(number,21)\n",
    "   \n",
    "    print(number,':',order)\n",
    "    \n",
    "    if order%2 == 0:\n",
    "        number1 = number**(order/2) - 1\n",
    "        number2 = number**(order/2) + 1\n",
    "        \n",
    "        set_of_factors[number] = (number1,number2)\n",
    "        \n",
    "        if number1%21 != 0 and number2%21 != 0:\n",
    "            fraction += 1"
   ]
  },
  {
   "cell_type": "code",
   "execution_count": 11,
   "metadata": {},
   "outputs": [
    {
     "name": "stdout",
     "output_type": "stream",
     "text": [
      "Fraction of integers with values of x^(s/2) +- 1 that are not multiples of 21: 0.6666666666666666\n"
     ]
    }
   ],
   "source": [
    "print('Fraction of integers with values of x^(s/2) +- 1 that are not multiples of 21: {}'.format(\n",
    "    fraction/len(set_of_factors)))"
   ]
  },
  {
   "cell_type": "code",
   "execution_count": 9,
   "metadata": {},
   "outputs": [
    {
     "name": "stdout",
     "output_type": "stream",
     "text": [
      "Element: 2  ,  Values of x^(s/2) +- 1 : (7.0, 9.0)\n",
      "Element: 5  ,  Values of x^(s/2) +- 1 : (124.0, 126.0)\n",
      "Element: 8  ,  Values of x^(s/2) +- 1 : (7.0, 9.0)\n",
      "Element: 10  ,  Values of x^(s/2) +- 1 : (999.0, 1001.0)\n",
      "Element: 11  ,  Values of x^(s/2) +- 1 : (1330.0, 1332.0)\n",
      "Element: 13  ,  Values of x^(s/2) +- 1 : (12.0, 14.0)\n",
      "Element: 17  ,  Values of x^(s/2) +- 1 : (4912.0, 4914.0)\n",
      "Element: 19  ,  Values of x^(s/2) +- 1 : (6858.0, 6860.0)\n",
      "Element: 20  ,  Values of x^(s/2) +- 1 : (19.0, 21.0)\n"
     ]
    }
   ],
   "source": [
    "for i in range(9):\n",
    "    print('Element: {}  ,  Values of x^(s/2) +- 1 : {}'.format(list(set_of_factors.keys())[i],\n",
    "                                                               list(set_of_factors.values())[i])                         )"
   ]
  },
  {
   "cell_type": "code",
   "execution_count": 12,
   "metadata": {},
   "outputs": [
    {
     "name": "stdout",
     "output_type": "stream",
     "text": [
      "Element: 2  ,  Prime Factors: 7,3\n",
      "Element: 5  ,  Prime Factors: 1,21\n",
      "Element: 8  ,  Prime Factors: 7,3\n",
      "Element: 10  ,  Prime Factors: 3,7\n",
      "Element: 11  ,  Prime Factors: 7,3\n",
      "Element: 13  ,  Prime Factors: 3,7\n",
      "Element: 17  ,  Prime Factors: 1,21\n",
      "Element: 19  ,  Prime Factors: 3,7\n",
      "Element: 20  ,  Prime Factors: 1,21\n"
     ]
    }
   ],
   "source": [
    "for x in set_of_factors.keys():\n",
    "    number1 = int(set_of_factors[x][0])\n",
    "    number2 = int(set_of_factors[x][1])\n",
    "    \n",
    "    factor1 = math.gcd(number1, 21)\n",
    "    factor2 = math.gcd(number2, 21)\n",
    "    \n",
    "    print('Element: {}  ,  Prime Factors: {},{}'.format(x,factor1, factor2))"
   ]
  }
 ],
 "metadata": {
  "kernelspec": {
   "display_name": "Python 3",
   "language": "python",
   "name": "python3"
  },
  "language_info": {
   "codemirror_mode": {
    "name": "ipython",
    "version": 3
   },
   "file_extension": ".py",
   "mimetype": "text/x-python",
   "name": "python",
   "nbconvert_exporter": "python",
   "pygments_lexer": "ipython3",
   "version": "3.7.4"
  }
 },
 "nbformat": 4,
 "nbformat_minor": 2
}
